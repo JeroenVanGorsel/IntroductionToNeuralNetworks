{
 "cells": [
  {
   "cell_type": "code",
   "execution_count": 90,
   "id": "8fededaf",
   "metadata": {},
   "outputs": [],
   "source": [
    "import numpy as np\n",
    "import matplotlib.pyplot as plt\n",
    "# number of classes = 1; use binary_crossentropy\n",
    "# number of classes > 1; use categorical_crossentropy"
   ]
  },
  {
   "cell_type": "markdown",
   "id": "7521a3d1",
   "metadata": {},
   "source": [
    "# Generate Dataset"
   ]
  },
  {
   "cell_type": "code",
   "execution_count": 91,
   "id": "9e10f02d",
   "metadata": {},
   "outputs": [
    {
     "data": {
      "image/png": "[encoded data removed]",
      "text/plain": [
       "<Figure size 432x288 with 1 Axes>"
      ]
     },
     "metadata": {
      "needs_background": "light"
     },
     "output_type": "display_data"
    }
   ],
   "source": [
    "scale = 0.35\n",
    "dim = 1\n",
    "set_nr = 2\n",
    "set_size = 25\n",
    "for i in range(set_nr):\n",
    "    center_point = scale * np.full((set_size, dim), -1)\n",
    "    for flip in range(i):\n",
    "        center_point.T[flip] = scale\n",
    "    x_set_points = np.random.random_sample((set_size, dim)) + center_point\n",
    "    y_set_labels = np.full(set_size, i)\n",
    "    #if dim >= 3:\n",
    "    #    plt.scatter3D(x_set_points.T[0], x_set_points.T[1], x_set_points.T[2])\n",
    "    #else:\n",
    "    if dim == 1:\n",
    "        plt.scatter(x_set_points, y_set_labels)\n",
    "    else:\n",
    "        plt.scatter(x_set_points.T[0], x_set_points.T[1])\n",
    "    if i > 0:\n",
    "        x_points = np.concatenate((x_points, x_set_points), axis=0)\n",
    "        y_labels = np.concatenate((y_labels, y_set_labels), axis=0)\n",
    "    else:\n",
    "        x_points = x_set_points\n",
    "        y_labels = y_set_labels\n",
    "plt.show()"
   ]
  },
  {
   "cell_type": "markdown",
   "id": "cf149862",
   "metadata": {},
   "source": [
    "# Logistic Regression (SKLearn)"
   ]
  },
  {
   "cell_type": "code",
   "execution_count": 92,
   "id": "d8f6985a",
   "metadata": {},
   "outputs": [
    {
     "data": {
      "text/plain": [
       "LogisticRegression()"
      ]
     },
     "execution_count": 92,
     "metadata": {},
     "output_type": "execute_result"
    }
   ],
   "source": [
    "# every datapoint has a certain number of inputs (x) and a certain number of labels (y).\n",
    "# given the inputs, we want to guess the labels y. \n",
    "from sklearn.linear_model import LogisticRegression\n",
    "logisticRegr = LogisticRegression()\n",
    "logisticRegr.fit(x_points, y_labels) #train model on data"
   ]
  },
  {
   "cell_type": "code",
   "execution_count": 93,
   "id": "c1d33e45",
   "metadata": {},
   "outputs": [
    {
     "data": {
      "text/plain": [
       "array([0, 0, 0, 0, 0, 1, 0, 0, 0, 0, 0, 1, 0, 0, 0, 0, 0, 0, 0, 0, 0, 1,\n",
       "       0, 0, 0, 0, 1, 0, 1, 1, 1, 1, 1, 1, 1, 1, 1, 1, 1, 1, 1, 1, 1, 1,\n",
       "       0, 1, 1, 1, 1, 1])"
      ]
     },
     "execution_count": 93,
     "metadata": {},
     "output_type": "execute_result"
    }
   ],
   "source": [
    "y_predict = logisticRegr.predict(x_points)\n",
    "y_predict"
   ]
  },
  {
   "cell_type": "code",
   "execution_count": 94,
   "id": "5db2882a",
   "metadata": {},
   "outputs": [
    {
     "data": {
      "image/png": "[encoded data removed]",
      "text/plain": [
       "<Figure size 432x288 with 1 Axes>"
      ]
     },
     "metadata": {
      "needs_background": "light"
     },
     "output_type": "display_data"
    }
   ],
   "source": [
    "for i in range(set_nr):\n",
    "    plot_x = x_points[y_predict==i]\n",
    "    if dim == 1:\n",
    "        plot_y = y_labels[y_predict==i]\n",
    "        plt.scatter(plot_x, plot_y)\n",
    "    if dim > 1:\n",
    "        plt.scatter(plot_x.T[0], plot_x.T[1])"
   ]
  },
  {
   "cell_type": "markdown",
   "id": "cf47773a",
   "metadata": {},
   "source": [
    "# Fit Neural Network"
   ]
  },
  {
   "cell_type": "code",
   "execution_count": 95,
   "id": "3a905141",
   "metadata": {},
   "outputs": [],
   "source": [
    "# y_labels should have a dimension equal to the number of classes,\n",
    "# and contain the probability of belonging to each class\n",
    "label_size = y_labels.shape[0]\n",
    "class_labels = []\n",
    "for i in range(set_nr):\n",
    "    label_array = np.zeros(label_size)\n",
    "    label_array[y_labels==i] = 1\n",
    "    class_labels.append(label_array)\n",
    "    \n",
    "y_labels_matrix = np.asarray(class_labels).T"
   ]
  },
  {
   "cell_type": "code",
   "execution_count": 103,
   "id": "b3772278",
   "metadata": {},
   "outputs": [],
   "source": [
    "# next we create a neural net in Keras that is going to perform logistic regression, \n",
    "# and should find the probability for each point to fit in a certain label\n",
    "from tensorflow.keras.models import Sequential\n",
    "from tensorflow.keras.layers import Dense\n",
    "from tensorflow.keras.layers import Flatten\n",
    "\n",
    "model = Sequential()\n",
    "#model.add(Flatten)\n",
    "model.add(Dense(1, #output dim = set_nr\n",
    "                activation = 'sigmoid', \n",
    "                input_shape=(1,), use_bias=True)) #, input_dim = dim)) #first parameter is dimension\n",
    "model.compile(optimizer='adam', loss='categorical_crossentropy')"
   ]
  },
  {
   "cell_type": "code",
   "execution_count": 104,
   "id": "d4d29754",
   "metadata": {},
   "outputs": [
    {
     "name": "stdout",
     "output_type": "stream",
     "text": [
      "Epoch 2/5\n",
      "40/40 - 1s - loss: 0.7608 - val_loss: 0.9362 - 651ms/epoch - 16ms/step\n",
      "Epoch 3/5\n",
      "40/40 - 0s - loss: 0.7363 - val_loss: 0.9022 - 77ms/epoch - 2ms/step\n",
      "Epoch 4/5\n",
      "40/40 - 0s - loss: 0.7137 - val_loss: 0.8672 - 89ms/epoch - 2ms/step\n",
      "Epoch 5/5\n",
      "40/40 - 0s - loss: 0.6923 - val_loss: 0.8304 - 94ms/epoch - 2ms/step\n"
     ]
    },
    {
     "data": {
      "text/plain": [
       "<keras.callbacks.History at 0x27a64321208>"
      ]
     },
     "execution_count": 104,
     "metadata": {},
     "output_type": "execute_result"
    }
   ],
   "source": [
    "model.fit(\n",
    "    x_points, \n",
    "    y_labels_matrix, \n",
    "    batch_size=1, # how many examples do we train in tandem?\n",
    "    epochs=5, # how may times do we go through the entire dataset\n",
    "    verbose=2, # set to '2' to print progress bar\n",
    "    callbacks=None, \n",
    "    validation_split=0.2, \n",
    "    validation_data=None, \n",
    "    shuffle=True, #shuffle the data\n",
    "    class_weight=None, \n",
    "    sample_weight=None,\n",
    "    initial_epoch=1)"
   ]
  },
  {
   "cell_type": "code",
   "execution_count": 105,
   "id": "8a7b0383",
   "metadata": {},
   "outputs": [
    {
     "name": "stdout",
     "output_type": "stream",
     "text": [
      "50/50 [==============================] - 0s 1ms/step\n"
     ]
    }
   ],
   "source": [
    "model_predictions = model.predict(\n",
    "    x_points, \n",
    "    batch_size=1, \n",
    "    verbose=1)"
   ]
  },
  {
   "cell_type": "code",
   "execution_count": 106,
   "id": "2401a092",
   "metadata": {},
   "outputs": [],
   "source": [
    "#model_predictions\n",
    "# output now gives probabilities to below to a certain set?"
   ]
  },
  {
   "cell_type": "code",
   "execution_count": 107,
   "id": "59f7fdb4",
   "metadata": {},
   "outputs": [
    {
     "data": {
      "text/plain": [
       "<matplotlib.collections.PathCollection at 0x27a64520a88>"
      ]
     },
     "execution_count": 107,
     "metadata": {},
     "output_type": "execute_result"
    },
    {
     "data": {
      "image/png": "[encoded data removed]",
      "text/plain": [
       "<Figure size 432x288 with 1 Axes>"
      ]
     },
     "metadata": {
      "needs_background": "light"
     },
     "output_type": "display_data"
    }
   ],
   "source": [
    "plt.scatter(x_points, model_predictions.T[1])"
   ]
  },
  {
   "cell_type": "markdown",
   "id": "2cdb2909",
   "metadata": {},
   "source": [
    "# "
   ]
  },
  {
   "cell_type": "markdown",
   "id": "319e1f83",
   "metadata": {},
   "source": [
    "# Example from Internet"
   ]
  },
  {
   "cell_type": "code",
   "execution_count": 78,
   "id": "d5c69bf4",
   "metadata": {},
   "outputs": [
    {
     "ename": "SyntaxError",
     "evalue": "invalid syntax (Temp/ipykernel_29568/891594936.py, line 13)",
     "output_type": "error",
     "traceback": [
      "\u001b[1;36m  File \u001b[1;32m\"C:\\Users\\Jeroen\\AppData\\Local\\Temp/ipykernel_29568/891594936.py\"\u001b[1;36m, line \u001b[1;32m13\u001b[0m\n\u001b[1;33m    model.compile(optimizer='sgd',\u001b[0m\n\u001b[1;37m        ^\u001b[0m\n\u001b[1;31mSyntaxError\u001b[0m\u001b[1;31m:\u001b[0m invalid syntax\n"
     ]
    }
   ],
   "source": [
    "import numpy as np\n",
    "from keras.models import Sequential\n",
    "from keras.layers import Dense\n",
    "from keras.regularizers import L1L2\n",
    "\n",
    "#Set up the logistic regression model\n",
    "\n",
    "model = Sequential()\n",
    "model.add(Dense(2,  # output dim is 2, one score per each class\n",
    "                activation='softmax',\n",
    "                kernel_regularizer=L1L2(l1=0.0, l2=0.1),\n",
    "                input_dim=len(feature_vector))  # input dimension = number of features your data has\n",
    "model.compile(optimizer='sgd',\n",
    "              loss='categorical_crossentropy',\n",
    "              metrics=['accuracy'])\n",
    "model.fit(x_train, y_train, epochs=100, validation_data=(x_val, y_val))"
   ]
  },
  {
   "cell_type": "code",
   "execution_count": null,
   "id": "2c02cc8c",
   "metadata": {},
   "outputs": [],
   "source": []
  }
 ],
 "metadata": {
  "kernelspec": {
   "display_name": "Python 3 (ipykernel)",
   "language": "python",
   "name": "python3"
  },
  "language_info": {
   "codemirror_mode": {
    "name": "ipython",
    "version": 3
   },
   "file_extension": ".py",
   "mimetype": "text/x-python",
   "name": "python",
   "nbconvert_exporter": "python",
   "pygments_lexer": "ipython3",
   "version": "3.7.6"
  }
 },
 "nbformat": 4,
 "nbformat_minor": 5
}
